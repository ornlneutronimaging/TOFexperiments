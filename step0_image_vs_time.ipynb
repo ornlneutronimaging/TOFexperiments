{
 "cells": [
  {
   "cell_type": "code",
   "execution_count": null,
   "metadata": {
    "collapsed": false
   },
   "outputs": [],
   "source": [
    "import custom_style; \n",
    "custom_style.style()"
   ]
  },
  {
   "cell_type": "code",
   "execution_count": null,
   "metadata": {
    "collapsed": false,
    "format": "row"
   },
   "outputs": [],
   "source": [
    "import os\n",
    "import sys\n",
    "if os.sys.platform == 'darwin':\n",
    "    sys.path.append('/Users/j35/git/BraggEdge/python')\n",
    "else:\n",
    "    sys.path.append(r\"C:\\Users\\user\\Documents\\GitHub\\BraggEdge\\python\")\n",
    "    sys.path.append(r\"C:\\Users\\user\\Anaconda3\\envs\\SNAP2016\\lib\\site-packages\")\n",
    " \n",
    "import pandas as pd\n",
    "import numpy as np\n",
    "import matplotlib.patches as patches\n",
    "import matplotlib.pyplot as plt\n",
    "%matplotlib inline\n",
    "\n",
    "from ipywidgets.widgets import interact\n",
    "#from ipywidgets import widgets\n",
    "\n",
    "from pprint import pprint\n",
    "\n",
    "import datetime\n",
    "import glob\n",
    "import shutil\n",
    "    \n",
    "from neutronbraggedge.experiment_handler import *\n",
    "from neutronbraggedge.braggedge import BraggEdge\n",
    "from neutronbraggedge.material_handler.retrieve_material_metadata import RetrieveMaterialMetadata\n",
    "\n",
    "from plotly.offline import plot, init_notebook_mode, iplot\n",
    "init_notebook_mode()\n",
    "import plotly.plotly as py\n",
    "import plotly.graph_objs as go\n",
    "from plotly import tools\n",
    "\n",
    "from IPython.html import widgets\n",
    "from IPython.display import display\n",
    "\n",
    "import gui_widgets\n",
    "import normalization\n",
    "import load_handler\n",
    "\n",
    "%gui qt"
   ]
  },
  {
   "cell_type": "markdown",
   "metadata": {},
   "source": [
    "#### Load config"
   ]
  },
  {
   "cell_type": "code",
   "execution_count": null,
   "metadata": {
    "collapsed": false
   },
   "outputs": [],
   "source": [
    "from PyQt4.QtCore import QSettings\n",
    "settings = QSettings()\n",
    "\n",
    "default_dir = settings.value('default_dir')\n",
    "if not(default_dir is None):\n",
    "    default_dir = str(default_dir)\n",
    "elif os.sys.platform == 'darwin':\n",
    "    default_dir = r'/Users/j35/data/'\n",
    "else:\n",
    "    default_dir = r\"C:\\Data\"\n",
    "\n",
    "distance_source_detector = settings.value('distance_source_detector')\n",
    "if not (distance_source_detector is None):\n",
    "    distance_source_detector = float(distance_source_detector)\n",
    "else:\n",
    "    distance_source_detector = 15.89\n",
    "\n",
    "detector_offset = settings.value('detector_offset')\n",
    "if not (detector_offset is None):\n",
    "    detector_offset = float(detector_offset)\n",
    "else:\n",
    "    detector_offset = 4200\n",
    "    \n",
    "list_of_elements = settings.value('list_of_elements')\n",
    "if not (list_of_elements is None):\n",
    "    list_of_elements = str(list_of_elements).split(',')\n",
    "else:\n",
    "    list_of_elements = ['Fe']\n",
    "    \n",
    "number_of_bragg_edges = settings.value('number_of_bragg_edges')\n",
    "if not (number_of_bragg_edges is None):\n",
    "    number_of_bragg_edges = int(number_of_bragg_edges)\n",
    "else:\n",
    "    number_of_bragg_edges = 8"
   ]
  },
  {
   "cell_type": "markdown",
   "metadata": {},
   "source": [
    "## USER INPUT"
   ]
  },
  {
   "cell_type": "markdown",
   "metadata": {},
   "source": [
    "#### Select a default starting directory (optional) "
   ]
  },
  {
   "cell_type": "code",
   "execution_count": null,
   "metadata": {
    "collapsed": false
   },
   "outputs": [],
   "source": [
    "default_dir_widget = widgets.Text(\n",
    "    description='default_dir',\n",
    "    value=default_dir)\n",
    "display(default_dir_widget)"
   ]
  },
  {
   "cell_type": "markdown",
   "metadata": {},
   "source": [
    "#### What is the distance source-detector ?"
   ]
  },
  {
   "cell_type": "code",
   "execution_count": null,
   "metadata": {
    "collapsed": false
   },
   "outputs": [],
   "source": [
    "distance_source_detector_widget = widgets.Text(\n",
    "    description = 'dSD (m)',\n",
    "    value = str(distance_source_detector))\n",
    "display(distance_source_detector_widget)"
   ]
  },
  {
   "cell_type": "markdown",
   "metadata": {},
   "source": [
    "#### What is the detector offset ?"
   ]
  },
  {
   "cell_type": "code",
   "execution_count": null,
   "metadata": {
    "collapsed": true
   },
   "outputs": [],
   "source": [
    "detector_offset_widget = widgets.Text(\n",
    "    description = 'detector_offset (micros)',\n",
    "    value = str(detector_offset))\n",
    "display(detector_offset_widget)"
   ]
  },
  {
   "cell_type": "markdown",
   "metadata": {},
   "source": [
    "#### Full list of material available:"
   ]
  },
  {
   "cell_type": "code",
   "execution_count": null,
   "metadata": {
    "collapsed": false
   },
   "outputs": [],
   "source": [
    "retrieve_material = RetrieveMaterialMetadata(material = 'all')\n",
    "list_returned = retrieve_material.full_list_material()\n",
    "pprint(list_returned)"
   ]
  },
  {
   "cell_type": "markdown",
   "metadata": {},
   "source": [
    "#### List of elements you want the Bragg Edges?     "
   ]
  },
  {
   "cell_type": "markdown",
   "metadata": {},
   "source": [
    "ex: Li, Al, inconel"
   ]
  },
  {
   "cell_type": "code",
   "execution_count": null,
   "metadata": {
    "collapsed": false
   },
   "outputs": [],
   "source": [
    "list_of_elements_widget = widgets.Text(\n",
    "    description = 'List elements',\n",
    "    value = ','.join(list_of_elements))\n",
    "display(list_of_elements_widget)"
   ]
  },
  {
   "cell_type": "markdown",
   "metadata": {},
   "source": [
    "#### How many Bragg Edges do you want to see?\n"
   ]
  },
  {
   "cell_type": "code",
   "execution_count": null,
   "metadata": {
    "collapsed": false
   },
   "outputs": [],
   "source": [
    "number_of_bragg_edges_widget = widgets.Text(\n",
    "    description = 'Nbr Bragg Edges',\n",
    "    value = str(number_of_bragg_edges))\n",
    "display(number_of_bragg_edges_widget)"
   ]
  },
  {
   "cell_type": "markdown",
   "metadata": {},
   "source": [
    "#### Save config"
   ]
  },
  {
   "cell_type": "code",
   "execution_count": null,
   "metadata": {
    "collapsed": false,
    "scrolled": true
   },
   "outputs": [],
   "source": [
    "default_dir = default_dir_widget.value\n",
    "distance_source_detector = float(distance_source_detector_widget.value)\n",
    "detector_offset = float(detector_offset_widget.value)\n",
    "list_of_elements = list_of_elements_widget.value.split(',')\n",
    "number_of_bragg_edges = int(number_of_bragg_edges_widget.value)\n",
    "\n",
    "settings.setValue('default_dir', str(default_dir))\n",
    "settings.setValue('distance_source_detector', str(distance_source_detector))\n",
    "settings.setValue('detector_offset', str(detector_offset))\n",
    "settings.setValue('list_of_elements', ','.join(list_of_elements))\n",
    "settings.setValue('number_of_bragg_edges', str(number_of_bragg_edges))"
   ]
  },
  {
   "cell_type": "markdown",
   "metadata": {},
   "source": [
    "### Retrieve Powder Bragg Edges "
   ]
  },
  {
   "cell_type": "code",
   "execution_count": null,
   "metadata": {
    "collapsed": false
   },
   "outputs": [],
   "source": [
    "_handler = BraggEdge(material=list_of_elements, \n",
    "                     number_of_bragg_edges = number_of_bragg_edges)\n",
    "bragg_edges = _handler.bragg_edges\n",
    "hkl = _handler.hkl\n",
    "\n",
    "print(_handler)"
   ]
  },
  {
   "cell_type": "markdown",
   "metadata": {},
   "source": [
    "## Loading Data"
   ]
  },
  {
   "cell_type": "code",
   "execution_count": null,
   "metadata": {
    "collapsed": false
   },
   "outputs": [],
   "source": [
    "%gui qt\n",
    "list_files = gui_widgets.gui_fname(dir = default_dir)\n",
    "\n",
    "# remove from list *_SummedImg.fits fille\n",
    "list_files = [file for file in list_files if not \"_SummedImg.fits\" in file] \n",
    "\n",
    "# =================================\n",
    "# Automatically load and convert Time Spectra\n",
    "# =================================\n",
    "dir_name = os.path.dirname(list_files[0])\n",
    "\n",
    "spectra_files_name = glob.glob(dir_name + '/*_Spectra.txt')\n",
    "if spectra_files_name == []:\n",
    "    print(\"Select Spectra File...\")\n",
    "    spectra_file = gui_widgets.gui_single_file(dir = default_dir)\n",
    "else:\n",
    "    spectra_file = spectra_files_name[0]\n",
    "\n",
    "_tof_handler = TOF(filename = spectra_file)\n",
    "\n",
    "_exp = Experiment(tof = _tof_handler.tof_array, \n",
    "                  distance_source_detector_m = distance_source_detector, \n",
    "                  detector_offset_micros = detector_offset)\n",
    "\n",
    "lambda_array = _exp.lambda_array * 1e10 # to be in Angstroms\n",
    "tof_array = _exp.tof_array\n",
    "\n",
    "# =================================\n",
    "# Load Data\n",
    "# =================================\n",
    "w = widgets.IntProgress(descrption='Loading data')\n",
    "w.max = len(list_files)\n",
    "display(w)\n",
    "\n",
    "data = []\n",
    "for _index, _file in enumerate(list_files):\n",
    "    _image = load_handler.load_data(_file)\n",
    "    data.append(_image)\n",
    "    w.value = _index + 1"
   ]
  },
  {
   "cell_type": "markdown",
   "metadata": {},
   "source": [
    "### Crop Region"
   ]
  },
  {
   "cell_type": "code",
   "execution_count": null,
   "metadata": {
    "collapsed": false
   },
   "outputs": [],
   "source": [
    "# =================================\n",
    "# Crop Data\n",
    "# =================================\n",
    "[height, width] = data[0].shape\n",
    "\n",
    "def plot_image_for_cropping(file_index, x_left, x_right, y_top, y_bottom):\n",
    "    \n",
    "    fig = plt.figure(figsize=(10,10))\n",
    "    ax_img = plt.subplot(111)\n",
    "    ax_img.imshow(data[file_index])\n",
    "    \n",
    "#    _title = os.path.basename(list_files[file_index])\n",
    "#    ax_img.set_title(_title)\n",
    "    ax_img.set_title(\"Select Region To Crop\", fontsize=15)\n",
    "    ax_img.set_xlabel(\"Pixel x\")\n",
    "    ax_img.set_ylabel(\"Pixel Y\")\n",
    " \n",
    "    _rectangle = patches.Rectangle(\n",
    "        (x_left, y_top),\n",
    "        x_right - x_left,\n",
    "        y_bottom - y_top,\n",
    "        edgecolor = \"white\",\n",
    "        linewidth = 2,\n",
    "        fill = False)\n",
    "    ax_img.add_patch(_rectangle)\n",
    "\n",
    "    return [x_left, x_right, y_top, y_bottom]\n",
    "\n",
    "number_of_files = len(list_files)\n",
    "crop = interact(plot_image_for_cropping,\n",
    "        file_index =widgets.IntSlider(min=0, \n",
    "                                      max=number_of_files-1,\n",
    "                                      step=1, value=0, \n",
    "                                      description='Image index'),\n",
    "        x_left = widgets.IntSlider(min=0, max=width-1, step=1, value=20),\n",
    "        x_right = widgets.IntSlider(min=0, max=width-1, step=1, value=width-20),\n",
    "        y_top = widgets.IntSlider(min=0, max=height-1, step=1, value=20), \n",
    "        y_bottom = widgets.IntSlider(min=0, max=height-1, step=1, value=height-20))"
   ]
  },
  {
   "cell_type": "code",
   "execution_count": null,
   "metadata": {
    "collapsed": false
   },
   "outputs": [],
   "source": [
    "# retrieve again powder bragg edges (in case number to display changed)\n",
    "fig = tools.make_subplots(2, 1)\n",
    "\n",
    "_handler = BraggEdge(material=list_of_elements, \n",
    "                     number_of_bragg_edges = number_of_bragg_edges)\n",
    "bragg_edges = _handler.bragg_edges\n",
    "hkl = _handler.hkl\n",
    "\n",
    "[x_left, x_right, y_top, y_bottom] = crop.widget.result\n",
    "\n",
    "sum_cropped_data = []\n",
    "for _data in data:\n",
    "    _sum_data = np.sum(_data[y_top:y_bottom, x_left:x_right])\n",
    "    sum_cropped_data.append(_sum_data)\n",
    "    \n",
    "# format hkl labels\n",
    "_hkl_formated = {}\n",
    "for _material in hkl:\n",
    "    _hkl_string = []\n",
    "    for _hkl in hkl[_material]:\n",
    "        _hkl_s = \",\".join(str(x) for x in _hkl)\n",
    "        _hkl_s = _material + \"\\n\" + _hkl_s\n",
    "        _hkl_string.append(_hkl_s)\n",
    "    _hkl_formated[_material] = _hkl_string\n",
    "    \n",
    "trace = go.Scatter(\n",
    "    x = lambda_array,\n",
    "    y = sum_cropped_data,\n",
    "    mode = 'markers')\n",
    "\n",
    "trace2 = go.Scatter(\n",
    "    x = tof_array,\n",
    "    y = sum_cropped_data,\n",
    "    mode = 'markers')\n",
    "\n",
    "layout = go.Layout(\n",
    "    width = \"100%\",\n",
    "    height = 500,\n",
    "    title = \"Sum Counts vs TOF\",\n",
    "    xaxis = dict(\n",
    "        title = \"Lambda (Angstroms)\"\n",
    "                ),\n",
    "    yaxis = dict(\n",
    "        title = \"Sum Counts\"\n",
    "                ),\n",
    "    )\n",
    "\n",
    "max_x = 6\n",
    "y_off = 1\n",
    "\n",
    "for y_index, _material in enumerate(bragg_edges):\n",
    "    for _index, _value in enumerate(bragg_edges[_material]):\n",
    "        if _value > max_x:\n",
    "            continue\n",
    "        bragg_line = {\"type\": \"line\",\n",
    "                    'x0': _value,\n",
    "                    'x1': _value,\n",
    "                     'yref': \"paper\",\n",
    "                     'y0': 0,\n",
    "                     'y1': 1,\n",
    "                     'line': {\n",
    "                        'color': 'rgb(255, 0, 0)',\n",
    "                        'width': 1\n",
    "            }}\n",
    "        layout.shapes.append(bragg_line)\n",
    "        y_off = 1 - 0.25 * y_index\n",
    "    \n",
    "        # add labels to plots\n",
    "        _annot = dict(\n",
    "                    x=_value,\n",
    "                    y= y_off,\n",
    "                    text = _hkl_formated[_material][_index],\n",
    "                    yref=\"paper\",\n",
    "                    font=dict(\n",
    "                        family=\"Arial\",\n",
    "                        size=12,\n",
    "                        color=\"rgb(150,50,50)\"\n",
    "                    ),\n",
    "                    showarrow=True,\n",
    "                    arrowhead=3,\n",
    "                    ax=0,\n",
    "                    ay=-25)\n",
    "                \n",
    "        layout.annotations.append(_annot)\n",
    "        \n",
    "#figure = tools.make_subplots(rows=2, cols=1)\n",
    "#figure.append_trace(trace, 1, 1)\n",
    "#figure.append_trace(trace2, 2, 1)\n",
    "#figure.layout = layout\n",
    "\n",
    "data1 = [trace]\n",
    "def plot_final_image(x_left, x_right, y_top, y_bottom):\n",
    "    layout.xaxis.range = [x_left, x_right]\n",
    "    layout.yaxis.range = [y_bottom, y_top]\n",
    "    figure = go.Figure(data=data1, layout=layout)\n",
    "    iplot(figure)\n",
    "\n",
    "resize = interact(plot_final_image,\n",
    "        x_left = widgets.FloatSlider(min=lambda_array[0], max=lambda_array[-1], \n",
    "                                     description = 'Lambda min (Angstroms)',\n",
    "                                     step=0.01, value=lambda_array[0]),\n",
    "        x_right = widgets.FloatSlider(min=lambda_array[0], max=lambda_array[-1], \n",
    "                                      description = 'Lambda max (Angstroms)',\n",
    "                                      step=0.01, value=lambda_array[-1]),\n",
    "        y_top = widgets.FloatSlider(min=np.min(sum_cropped_data), max=max(sum_cropped_data),\n",
    "                                        description = 'Max Counts',\n",
    "                                       step=0.01, value=np.max(sum_cropped_data)),\n",
    "        y_bottom = widgets.FloatSlider(min=np.min(sum_cropped_data), max=max(sum_cropped_data),\n",
    "                                        description = 'Min Counts',\n",
    "                                       step=0.01, value=np.min(sum_cropped_data)))\n"
   ]
  },
  {
   "cell_type": "code",
   "execution_count": null,
   "metadata": {
    "collapsed": true
   },
   "outputs": [],
   "source": []
  }
 ],
 "metadata": {
  "kernelspec": {
   "display_name": "Python 3",
   "language": "python",
   "name": "python3"
  },
  "language_info": {
   "codemirror_mode": {
    "name": "ipython",
    "version": 3
   },
   "file_extension": ".py",
   "mimetype": "text/x-python",
   "name": "python",
   "nbconvert_exporter": "python",
   "pygments_lexer": "ipython3",
   "version": "3.5.1"
  }
 },
 "nbformat": 4,
 "nbformat_minor": 0
}
